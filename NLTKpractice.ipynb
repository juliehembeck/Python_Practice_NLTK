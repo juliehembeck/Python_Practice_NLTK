{
 "cells": [
  {
   "cell_type": "code",
   "execution_count": 2,
   "metadata": {},
   "outputs": [],
   "source": [
    "import math\n",
    "import collections\n",
    "import nltk\n",
    "\n",
    "import numpy as np\n",
    "import pandas as pd\n",
    "import matplotlib.pyplot as pp\n",
    "\n",
    "%matplotlib inline"
   ]
  },
  {
   "cell_type": "code",
   "execution_count": 3,
   "metadata": {},
   "outputs": [],
   "source": [
    "brown = pd.read_csv(\"brown.csv\") "
   ]
  },
  {
   "cell_type": "code",
   "execution_count": 4,
   "metadata": {},
   "outputs": [
    {
     "data": {
      "text/html": [
       "<div>\n",
       "<style scoped>\n",
       "    .dataframe tbody tr th:only-of-type {\n",
       "        vertical-align: middle;\n",
       "    }\n",
       "\n",
       "    .dataframe tbody tr th {\n",
       "        vertical-align: top;\n",
       "    }\n",
       "\n",
       "    .dataframe thead th {\n",
       "        text-align: right;\n",
       "    }\n",
       "</style>\n",
       "<table border=\"1\" class=\"dataframe\">\n",
       "  <thead>\n",
       "    <tr style=\"text-align: right;\">\n",
       "      <th></th>\n",
       "      <th>filename</th>\n",
       "      <th>para_id</th>\n",
       "      <th>sent_id</th>\n",
       "      <th>raw_text</th>\n",
       "      <th>tokenized_text</th>\n",
       "      <th>tokenized_pos</th>\n",
       "      <th>label</th>\n",
       "    </tr>\n",
       "  </thead>\n",
       "  <tbody>\n",
       "    <tr>\n",
       "      <th>0</th>\n",
       "      <td>cd05</td>\n",
       "      <td>0</td>\n",
       "      <td>0</td>\n",
       "      <td>Furthermore/rb ,/, as/cs an/at encouragement/n...</td>\n",
       "      <td>Furthermore , as an encouragement to revisioni...</td>\n",
       "      <td>rb , cs at nn in nn nn , pps rb bez jj to vb c...</td>\n",
       "      <td>religion</td>\n",
       "    </tr>\n",
       "    <tr>\n",
       "      <th>1</th>\n",
       "      <td>cd05</td>\n",
       "      <td>0</td>\n",
       "      <td>1</td>\n",
       "      <td>The/at Unitarian/jj clergy/nns were/bed an/at ...</td>\n",
       "      <td>The Unitarian clergy were an exclusive club of...</td>\n",
       "      <td>at jj nns bed at jj nn in vbn nns -- cs at nn ...</td>\n",
       "      <td>religion</td>\n",
       "    </tr>\n",
       "    <tr>\n",
       "      <th>2</th>\n",
       "      <td>cd05</td>\n",
       "      <td>0</td>\n",
       "      <td>2</td>\n",
       "      <td>Ezra/np Stiles/np Gannett/np ,/, an/at honorab...</td>\n",
       "      <td>Ezra Stiles Gannett , an honorable representat...</td>\n",
       "      <td>np np np , at jj nn in at nn , vbd ppl rb in a...</td>\n",
       "      <td>religion</td>\n",
       "    </tr>\n",
       "    <tr>\n",
       "      <th>3</th>\n",
       "      <td>cd05</td>\n",
       "      <td>0</td>\n",
       "      <td>3</td>\n",
       "      <td>Even/rb so/rb ,/, Gannett/np judiciously/rb ar...</td>\n",
       "      <td>Even so , Gannett judiciously argued , the Ass...</td>\n",
       "      <td>rb rb , np rb vbd , at nn-tl md rb vb cs np ``...</td>\n",
       "      <td>religion</td>\n",
       "    </tr>\n",
       "    <tr>\n",
       "      <th>4</th>\n",
       "      <td>cd05</td>\n",
       "      <td>0</td>\n",
       "      <td>4</td>\n",
       "      <td>We/ppss today/nr are/ber not/* entitled/vbn to...</td>\n",
       "      <td>We today are not entitled to excoriate honest ...</td>\n",
       "      <td>ppss nr ber * vbn to vb jj nns wps vbd np to b...</td>\n",
       "      <td>religion</td>\n",
       "    </tr>\n",
       "    <tr>\n",
       "      <th>...</th>\n",
       "      <td>...</td>\n",
       "      <td>...</td>\n",
       "      <td>...</td>\n",
       "      <td>...</td>\n",
       "      <td>...</td>\n",
       "      <td>...</td>\n",
       "      <td>...</td>\n",
       "    </tr>\n",
       "    <tr>\n",
       "      <th>57335</th>\n",
       "      <td>cj14</td>\n",
       "      <td>6</td>\n",
       "      <td>3</td>\n",
       "      <td>For/in the/at most/ap part/nn ,/, this/dt disc...</td>\n",
       "      <td>For the most part , this discussion will be co...</td>\n",
       "      <td>in at ap nn , dt nn md be vbn in nns vbn in at...</td>\n",
       "      <td>learned</td>\n",
       "    </tr>\n",
       "    <tr>\n",
       "      <th>57336</th>\n",
       "      <td>cj14</td>\n",
       "      <td>6</td>\n",
       "      <td>4</td>\n",
       "      <td>A/np-hl ./.-hl</td>\n",
       "      <td>A .</td>\n",
       "      <td>np-hl .-hl</td>\n",
       "      <td>learned</td>\n",
       "    </tr>\n",
       "    <tr>\n",
       "      <th>57337</th>\n",
       "      <td>cj14</td>\n",
       "      <td>6</td>\n",
       "      <td>5</td>\n",
       "      <td>Standard/jj-hl preparations/nns-hl and/cc-hl u...</td>\n",
       "      <td>Standard preparations and units of thyroid-sti...</td>\n",
       "      <td>jj-hl nns-hl cc-hl nns-hl in-hl jj-hl nn-hl</td>\n",
       "      <td>learned</td>\n",
       "    </tr>\n",
       "    <tr>\n",
       "      <th>57338</th>\n",
       "      <td>cj14</td>\n",
       "      <td>6</td>\n",
       "      <td>6</td>\n",
       "      <td>The/at international/jj unit/nn (/( u./nn )/) ...</td>\n",
       "      <td>The international unit ( u. ) , adopted to mak...</td>\n",
       "      <td>at jj nn ( nn ) , vbn to vb jj at nn in nns in...</td>\n",
       "      <td>learned</td>\n",
       "    </tr>\n",
       "    <tr>\n",
       "      <th>57339</th>\n",
       "      <td>cj14</td>\n",
       "      <td>6</td>\n",
       "      <td>7</td>\n",
       "      <td>The/at international/jj unit/nn is/bez equipot...</td>\n",
       "      <td>The international unit is equipotent with the ...</td>\n",
       "      <td>at jj nn bez jj in at nn nn vbn in cd , wdt be...</td>\n",
       "      <td>learned</td>\n",
       "    </tr>\n",
       "  </tbody>\n",
       "</table>\n",
       "<p>57340 rows × 7 columns</p>\n",
       "</div>"
      ],
      "text/plain": [
       "      filename  para_id  sent_id  \\\n",
       "0         cd05        0        0   \n",
       "1         cd05        0        1   \n",
       "2         cd05        0        2   \n",
       "3         cd05        0        3   \n",
       "4         cd05        0        4   \n",
       "...        ...      ...      ...   \n",
       "57335     cj14        6        3   \n",
       "57336     cj14        6        4   \n",
       "57337     cj14        6        5   \n",
       "57338     cj14        6        6   \n",
       "57339     cj14        6        7   \n",
       "\n",
       "                                                raw_text  \\\n",
       "0      Furthermore/rb ,/, as/cs an/at encouragement/n...   \n",
       "1      The/at Unitarian/jj clergy/nns were/bed an/at ...   \n",
       "2      Ezra/np Stiles/np Gannett/np ,/, an/at honorab...   \n",
       "3      Even/rb so/rb ,/, Gannett/np judiciously/rb ar...   \n",
       "4      We/ppss today/nr are/ber not/* entitled/vbn to...   \n",
       "...                                                  ...   \n",
       "57335  For/in the/at most/ap part/nn ,/, this/dt disc...   \n",
       "57336                                     A/np-hl ./.-hl   \n",
       "57337  Standard/jj-hl preparations/nns-hl and/cc-hl u...   \n",
       "57338  The/at international/jj unit/nn (/( u./nn )/) ...   \n",
       "57339  The/at international/jj unit/nn is/bez equipot...   \n",
       "\n",
       "                                          tokenized_text  \\\n",
       "0      Furthermore , as an encouragement to revisioni...   \n",
       "1      The Unitarian clergy were an exclusive club of...   \n",
       "2      Ezra Stiles Gannett , an honorable representat...   \n",
       "3      Even so , Gannett judiciously argued , the Ass...   \n",
       "4      We today are not entitled to excoriate honest ...   \n",
       "...                                                  ...   \n",
       "57335  For the most part , this discussion will be co...   \n",
       "57336                                                A .   \n",
       "57337  Standard preparations and units of thyroid-sti...   \n",
       "57338  The international unit ( u. ) , adopted to mak...   \n",
       "57339  The international unit is equipotent with the ...   \n",
       "\n",
       "                                           tokenized_pos     label  \n",
       "0      rb , cs at nn in nn nn , pps rb bez jj to vb c...  religion  \n",
       "1      at jj nns bed at jj nn in vbn nns -- cs at nn ...  religion  \n",
       "2      np np np , at jj nn in at nn , vbd ppl rb in a...  religion  \n",
       "3      rb rb , np rb vbd , at nn-tl md rb vb cs np ``...  religion  \n",
       "4      ppss nr ber * vbn to vb jj nns wps vbd np to b...  religion  \n",
       "...                                                  ...       ...  \n",
       "57335  in at ap nn , dt nn md be vbn in nns vbn in at...   learned  \n",
       "57336                                         np-hl .-hl   learned  \n",
       "57337        jj-hl nns-hl cc-hl nns-hl in-hl jj-hl nn-hl   learned  \n",
       "57338  at jj nn ( nn ) , vbn to vb jj at nn in nns in...   learned  \n",
       "57339  at jj nn bez jj in at nn nn vbn in cd , wdt be...   learned  \n",
       "\n",
       "[57340 rows x 7 columns]"
      ]
     },
     "execution_count": 4,
     "metadata": {},
     "output_type": "execute_result"
    }
   ],
   "source": [
    "brown"
   ]
  },
  {
   "cell_type": "code",
   "execution_count": 8,
   "metadata": {},
   "outputs": [
    {
     "data": {
      "text/plain": [
       "0        Furthermore , as an encouragement to revisioni...\n",
       "1        The Unitarian clergy were an exclusive club of...\n",
       "2        Ezra Stiles Gannett , an honorable representat...\n",
       "3        Even so , Gannett judiciously argued , the Ass...\n",
       "4        We today are not entitled to excoriate honest ...\n",
       "                               ...                        \n",
       "57335    For the most part , this discussion will be co...\n",
       "57336                                                  A .\n",
       "57337    Standard preparations and units of thyroid-sti...\n",
       "57338    The international unit ( u. ) , adopted to mak...\n",
       "57339    The international unit is equipotent with the ...\n",
       "Name: tokenized_text, Length: 57340, dtype: object"
      ]
     },
     "execution_count": 8,
     "metadata": {},
     "output_type": "execute_result"
    }
   ],
   "source": [
    "brown[\"tokenized_text\"]"
   ]
  },
  {
   "cell_type": "code",
   "execution_count": 29,
   "metadata": {},
   "outputs": [
    {
     "name": "stdout",
     "output_type": "stream",
     "text": [
      "['Even', 'so', ',', 'Gannett', 'judiciously', 'argued', ',', 'the', 'Association', 'could', 'legitimately', 'decide', 'that', 'Parker', '``', 'should', 'not', 'be', 'encouraged', 'nor', 'assisted', 'in', 'diffusing', 'his', 'opinions', 'by', 'those', 'who', 'differ', 'from', 'him', 'in', 'regard', 'to', 'their', 'correctness', '``', '.']\n"
     ]
    }
   ],
   "source": [
    "from nltk.tokenize import word_tokenize\n",
    "tokenized_word=word_tokenize(brown.loc[3,\"tokenized_text\"])\n",
    "print(tokenized_word)\n"
   ]
  },
  {
   "cell_type": "code",
   "execution_count": 31,
   "metadata": {},
   "outputs": [
    {
     "name": "stdout",
     "output_type": "stream",
     "text": [
      "<FreqDist with 35 samples and 38 outcomes>\n"
     ]
    }
   ],
   "source": [
    "from nltk.probability import FreqDist\n",
    "fdist = FreqDist(tokenized_word)\n",
    "print(fdist)"
   ]
  },
  {
   "cell_type": "code",
   "execution_count": null,
   "metadata": {},
   "outputs": [],
   "source": []
  }
 ],
 "metadata": {
  "kernelspec": {
   "display_name": "Python 3",
   "language": "python",
   "name": "python3"
  },
  "language_info": {
   "codemirror_mode": {
    "name": "ipython",
    "version": 3
   },
   "file_extension": ".py",
   "mimetype": "text/x-python",
   "name": "python",
   "nbconvert_exporter": "python",
   "pygments_lexer": "ipython3",
   "version": "3.8.3"
  }
 },
 "nbformat": 4,
 "nbformat_minor": 4
}
